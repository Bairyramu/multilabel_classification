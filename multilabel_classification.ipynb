{
  "nbformat": 4,
  "nbformat_minor": 0,
  "metadata": {
    "colab": {
      "name": "multilabel_classification.ipynb",
      "private_outputs": true,
      "provenance": []
    },
    "kernelspec": {
      "name": "python3",
      "display_name": "Python 3"
    },
    "language_info": {
      "name": "python"
    },
    "accelerator": "GPU"
  },
  "cells": [
    {
      "cell_type": "code",
      "metadata": {
        "id": "7OZoR7eFuokl"
      },
      "source": [
        "# mlp for multi-label classification\n",
        "from numpy import mean\n",
        "from numpy import std\n",
        "from sklearn.model_selection import RepeatedKFold\n",
        "from keras.models import Sequential\n",
        "from keras.layers import Dense\n",
        "from sklearn.metrics import accuracy_score\n",
        "from sklearn.datasets import make_multilabel_classification"
      ],
      "execution_count": null,
      "outputs": []
    },
    {
      "cell_type": "code",
      "metadata": {
        "id": "Nq2KYHGKu5fW"
      },
      "source": [
        "def get_dataset():\n",
        "\tX, y = make_multilabel_classification(n_samples=1000, n_features=10, n_classes=3, n_labels=2, random_state=1)\n",
        "\treturn X, y"
      ],
      "execution_count": null,
      "outputs": []
    },
    {
      "cell_type": "code",
      "metadata": {
        "id": "flcdCp7Cu5nh"
      },
      "source": [
        "def get_model(n_inputs, n_outputs):\n",
        "\tmodel = Sequential()\n",
        "\tmodel.add(Dense(20, input_dim=n_inputs, kernel_initializer='he_uniform', activation='relu'))\n",
        "\tmodel.add(Dense(n_outputs, activation='sigmoid'))\n",
        "\tmodel.compile(loss='binary_crossentropy', optimizer='adam')\n",
        "\treturn model"
      ],
      "execution_count": null,
      "outputs": []
    },
    {
      "cell_type": "code",
      "metadata": {
        "id": "vTqxrroouWqj"
      },
      "source": [
        "# evaluate a model using repeated k-fold cross-validation\n",
        "def evaluate_model(X, y):\n",
        "  results = list()\n",
        "  n_inputs, n_outputs = X.shape[1], y.shape[1]\n",
        "\t# define evaluation procedure\n",
        "  cv = RepeatedKFold(n_splits=10, n_repeats=3, random_state=1)\n",
        "\t\n",
        "  # define model \n",
        "  model = get_model(n_inputs, n_outputs)\n",
        "\n",
        "  # enumerate folds\n",
        "  for train_ix, test_ix in cv.split(X):\n",
        "\t\t# prepare data\n",
        "    X_train, X_test = X[train_ix], X[test_ix]\n",
        "    y_train, y_test = y[train_ix], y[test_ix]\n",
        "\t\t\n",
        "\t\t# fit model\n",
        "    model.fit(X_train, y_train, verbose=0, epochs=100)\n",
        "\t\t# make a prediction on the test set\n",
        "    yhat = model.predict(X_test)\n",
        "\t\t# round probabilities to class labels\n",
        "    yhat = yhat.round()\n",
        "\t\t# calculate accuracy\n",
        "    acc = accuracy_score(y_test, yhat)\n",
        "\t\t# store result\n",
        "    print('>%.3f' % acc)\n",
        "    results.append(acc)\n",
        "  return results"
      ],
      "execution_count": null,
      "outputs": []
    },
    {
      "cell_type": "code",
      "metadata": {
        "id": "yMRG2juw2ogF"
      },
      "source": [
        "from sklearn.model_selection import train_test_split"
      ],
      "execution_count": null,
      "outputs": []
    },
    {
      "cell_type": "code",
      "metadata": {
        "id": "EV3139Wz2xEv"
      },
      "source": [
        "X_train, X_test, y_train, y_test = train_test_split(X, y, test_size=0.33, random_state=42)"
      ],
      "execution_count": null,
      "outputs": []
    },
    {
      "cell_type": "code",
      "metadata": {
        "id": "pZZx64Z023VT"
      },
      "source": [
        "n_inputs, n_outputs = X.shape[1], y.shape[1]"
      ],
      "execution_count": null,
      "outputs": []
    },
    {
      "cell_type": "code",
      "metadata": {
        "id": "9N23BJpr3BN6"
      },
      "source": [
        "model = get_model(n_inputs, n_outputs)"
      ],
      "execution_count": null,
      "outputs": []
    },
    {
      "cell_type": "code",
      "metadata": {
        "id": "MGDowDYT3BVK"
      },
      "source": [
        "model.fit(X_train, y_train, verbose=2, epochs=100,validation_data=(X_test,y_test),batch_size=32)"
      ],
      "execution_count": null,
      "outputs": []
    },
    {
      "cell_type": "code",
      "metadata": {
        "id": "BQGUFKKq3pwS"
      },
      "source": [
        "yhat = model.predict(X_test)"
      ],
      "execution_count": null,
      "outputs": []
    },
    {
      "cell_type": "code",
      "metadata": {
        "id": "o7GQcSzE3sD8"
      },
      "source": [
        "yhat"
      ],
      "execution_count": null,
      "outputs": []
    },
    {
      "cell_type": "code",
      "metadata": {
        "id": "mlh5Noew30dh"
      },
      "source": [
        "yhat = yhat.round()"
      ],
      "execution_count": null,
      "outputs": []
    },
    {
      "cell_type": "code",
      "metadata": {
        "id": "WwKm65wp31rz"
      },
      "source": [
        "yhat"
      ],
      "execution_count": null,
      "outputs": []
    },
    {
      "cell_type": "code",
      "metadata": {
        "id": "WqSkf5693-9U"
      },
      "source": [
        ""
      ],
      "execution_count": null,
      "outputs": []
    },
    {
      "cell_type": "code",
      "metadata": {
        "id": "YSbzZ97my4GD"
      },
      "source": [
        "# load dataset\n",
        "X, y = get_dataset()\n",
        "# evaluate model\n",
        "results = evaluate_model(X, y)\n",
        "# summarize performance\n",
        "print('Accuracy: %.3f (%.3f)' % (mean(results), std(results)))"
      ],
      "execution_count": null,
      "outputs": []
    },
    {
      "cell_type": "code",
      "metadata": {
        "id": "BPsu2MonzdgM"
      },
      "source": [
        ""
      ],
      "execution_count": null,
      "outputs": []
    }
  ]
}